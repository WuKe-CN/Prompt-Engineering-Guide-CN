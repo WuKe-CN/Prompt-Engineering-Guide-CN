{
 "cells": [
  {
   "attachments": {},
   "cell_type": "markdown",
   "id": "8de529e8-3891-4f47-8585-65b92b80bbf7",
   "metadata": {},
   "source": [
    "在本课中，您将生成针对每个客户的评论量身定制的客户服务电子邮件。"
   ]
  },
  {
   "cell_type": "code",
   "execution_count": 1,
   "id": "e23399a9",
   "metadata": {
    "height": 132
   },
   "outputs": [],
   "source": [
    "import openai\n",
    "import os\n",
    "\n",
    "# from dotenv import load_dotenv, find_dotenv\n",
    "# _ = load_dotenv(find_dotenv()) # read local .env file\n",
    "\n",
    "openai.api_key  = \"你的key\"\n",
    "openai.api_base = \"你的代理地址\""
   ]
  },
  {
   "cell_type": "code",
   "execution_count": 2,
   "id": "4c943900-98db-40b3-b639-7822ee2c5fd8",
   "metadata": {
    "height": 166
   },
   "outputs": [],
   "source": [
    "def get_completion(prompt, model=\"gpt-3.5-turbo\",temperature=0): # Andrew mentioned that the prompt/ completion paradigm is preferable for this class\n",
    "    messages = [{\"role\": \"user\", \"content\": prompt}]\n",
    "    response = openai.ChatCompletion.create(\n",
    "        model=model,\n",
    "        messages=messages,\n",
    "        temperature=temperature, # this is the degree of randomness of the model's output\n",
    "    )\n",
    "    return response.choices[0].message[\"content\"]"
   ]
  },
  {
   "attachments": {},
   "cell_type": "markdown",
   "id": "f8ceea77-990a-4c64-bb49-3ba65eb155d2",
   "metadata": {},
   "source": [
    "通过chatgpt客制化的进行自动邮件回复"
   ]
  },
  {
   "cell_type": "code",
   "execution_count": 3,
   "id": "c30c4239",
   "metadata": {
    "height": 641
   },
   "outputs": [],
   "source": [
    "# given the sentiment from the lesson on \"inferring\",\n",
    "# and the original customer message, customize the email\n",
    "sentiment = \"消极\"\n",
    "\n",
    "# review for a blender\n",
    "review = f\"\"\"\n",
    "他们在11月仍有17件套系列的季节性销售，价格约为49元。但由于某种原因（价格欺诈），在12月的第二周左右，同一系列的价格都上涨到了70元至89元之间。11件套的价格也比之前的29元上涨了大约10元。\n",
    "虽然它看起来不错，但如果你看一下底座，刀片锁定的部分看起来不像几年前的前几版那么好，我用它非常温柔（例如，我先在搅拌机里把豆子、冰、米饭等非常硬的东西压碎，然后在搅拌机里按照我想要的份量把它们碾碎，然后换成搅打刀片来搅拌更细的面粉，在做奶昔时先用横切刀片，如果我需要更细/更少浆的东西，就用平刀片）。\n",
    "制作冰沙时的特别注意的是，将水果和蔬菜切细并冷冻（如果使用菠菜轻轻炖煮，使菠菜软化，然后冷冻直到可以使用；如果制作冰沙，则使用中小型食品加工机），\n",
    "这样你就可以避免在制作冰沙的时候添加太多冰。\n",
    "大约一年后，发动机发出了奇怪的声音。我打电话给客服，但保修期已经到期，所以我不得不再买一个。\n",
    "仅供参考：这类产品的整体质量已经很好了，但他们有点指望靠品牌知名度和消费者忠诚度来维持销售额。\n",
    "\"\"\""
   ]
  },
  {
   "attachments": {},
   "cell_type": "markdown",
   "id": "a3296e7f",
   "metadata": {},
   "source": [
    "提醒模型使用客户邮件信息中的细节信息"
   ]
  },
  {
   "cell_type": "code",
   "execution_count": 4,
   "id": "d5403f73",
   "metadata": {
    "height": 286
   },
   "outputs": [
    {
     "name": "stdout",
     "output_type": "stream",
     "text": [
      "尊敬的顾客，\n",
      "\n",
      "非常感谢您对我们产品的评论。我们非常抱歉您在使用过程中遇到了问题。我们深刻理解您的不满和失望，并为此向您道歉。\n",
      "\n",
      "我们非常重视您的反馈，并将会将您的意见反馈给我们的产品团队，以便改进我们的产品和服务。如果您需要任何帮助或有任何疑问，请随时联系我们的客户服务团队，我们将竭诚为您服务。\n",
      "\n",
      "再次感谢您对我们产品的支持和反馈。\n",
      "\n",
      "祝您生活愉快！\n",
      "\n",
      "AI客户代理\n"
     ]
    }
   ],
   "source": [
    "prompt = f\"\"\"\n",
    "你是一个人工智能客服助手\n",
    "你的任务是发送感谢顾客评论的中文电子邮件,为用户的评论生成感谢邮件\n",
    "如果评价的情感是积极的,感谢他们的评价。如果评价的情感是消极的道歉并表示他们可以联系客户服务。\n",
    "确保利用评论中的具体细节,用简洁而专业的语气回答。\n",
    "在电子邮件上署名为“AI客户代理”。\n",
    "顾客评论: ```{review}```\n",
    "评论情感: ```{sentiment}```\n",
    "\"\"\"\n",
    "response = get_completion(prompt)\n",
    "print(response)"
   ]
  }
 ],
 "metadata": {
  "kernelspec": {
   "display_name": "Python 3 (ipykernel)",
   "language": "python",
   "name": "python3"
  },
  "language_info": {
   "codemirror_mode": {
    "name": "ipython",
    "version": 3
   },
   "file_extension": ".py",
   "mimetype": "text/x-python",
   "name": "python",
   "nbconvert_exporter": "python",
   "pygments_lexer": "ipython3",
   "version": "3.9.16"
  }
 },
 "nbformat": 4,
 "nbformat_minor": 5
}

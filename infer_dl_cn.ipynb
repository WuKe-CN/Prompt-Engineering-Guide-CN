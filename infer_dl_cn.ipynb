{
 "cells": [
  {
   "attachments": {},
   "cell_type": "markdown",
   "id": "1a410d06",
   "metadata": {},
   "source": [
    "通过gpt进行情感检测 主题检测和分类 关键词抽取"
   ]
  },
  {
   "cell_type": "code",
   "execution_count": 1,
   "id": "5359f9cb",
   "metadata": {},
   "outputs": [],
   "source": [
    "import openai\n",
    "import os\n",
    "\n",
    "openai.api_key  = \"你的key\"\n",
    "openai.api_base = \"你的代理地址\""
   ]
  },
  {
   "cell_type": "code",
   "execution_count": 8,
   "id": "6f63f528",
   "metadata": {},
   "outputs": [],
   "source": [
    "def get_completion(prompt, model=\"gpt-3.5-turbo\"):\n",
    "    messages = [{\"role\": \"user\", \"content\": prompt}]\n",
    "    response = openai.ChatCompletion.create(\n",
    "        model=model,\n",
    "        messages=messages,\n",
    "        temperature=0, # this is the degree of randomness of the model's output\n",
    "    )\n",
    "    return response.choices[0].message[\"content\"]"
   ]
  },
  {
   "cell_type": "code",
   "execution_count": 3,
   "id": "196bb6a5",
   "metadata": {
    "scrolled": true
   },
   "outputs": [],
   "source": [
    "lamp_review = f\"\"\"\n",
    "我的卧室需要一盏漂亮的灯，这盏有额外的储物空间，\\ \n",
    "而且价格不太高。很快就搞定了。我们的灯在运输途中断了线， \\ \n",
    "公司很高兴地送来了一个新的。几天之内也来了。这很容易组合起来。\\ \n",
    "我有一个缺失的部分，所以我联系了他们的支持，他们很快就给了我缺失的部分！\\ \n",
    "在我看来，Lumina是一家关心客户和产品的伟大公司！！\n",
    "\"\"\""
   ]
  },
  {
   "attachments": {},
   "cell_type": "markdown",
   "id": "69794560",
   "metadata": {},
   "source": [
    "情感检测"
   ]
  },
  {
   "cell_type": "code",
   "execution_count": 5,
   "id": "a806df9a",
   "metadata": {},
   "outputs": [
    {
     "name": "stdout",
     "output_type": "stream",
     "text": [
      "正面的情感。\n"
     ]
    }
   ],
   "source": [
    "prompt = f\"\"\"\n",
    "由三个单引号包裹的产品评论的情感是什么？\\n\n",
    "```{lamp_review}```\n",
    "\"\"\"\n",
    "response = get_completion(prompt)\n",
    "print(response)"
   ]
  },
  {
   "cell_type": "code",
   "execution_count": 4,
   "id": "9ec2718c",
   "metadata": {},
   "outputs": [
    {
     "name": "stdout",
     "output_type": "stream",
     "text": [
      "积极的。\n"
     ]
    }
   ],
   "source": [
    "prompt = f\"\"\"\n",
    "由三个单引号包裹的产品评论的情感是什么？\\n\n",
    "是积极的还是消极的？\\n\n",
    "```{lamp_review}```\n",
    "\"\"\"\n",
    "response = get_completion(prompt)\n",
    "print(response)"
   ]
  },
  {
   "cell_type": "code",
   "execution_count": 8,
   "id": "567b1297",
   "metadata": {},
   "outputs": [
    {
     "name": "stdout",
     "output_type": "stream",
     "text": [
      "满意, 赞扬, 感激, 赞赏, 愉快\n"
     ]
    }
   ],
   "source": [
    "prompt = f\"\"\"\n",
    "列出由三个单引号包裹产品评论中所表达的情感。 \\ \n",
    "列表中包含的情感类型不超过五项。\\ \n",
    "将你的答案格式化为用逗号分隔的单词列表。\n",
    "'''{lamp_review}'''\n",
    "\"\"\"\n",
    "response = get_completion(prompt)\n",
    "print(response)"
   ]
  },
  {
   "cell_type": "code",
   "execution_count": 9,
   "id": "43b0c279",
   "metadata": {},
   "outputs": [
    {
     "name": "stdout",
     "output_type": "stream",
     "text": [
      "否。\n"
     ]
    }
   ],
   "source": [
    "prompt = f\"\"\"\n",
    "由三个单引号包裹产品评论中是否表达出了愤怒的情感。 \\ \n",
    "请回答:是或者否。\n",
    "'''{lamp_review}'''\n",
    "\"\"\"\n",
    "response = get_completion(prompt)\n",
    "print(response)"
   ]
  },
  {
   "cell_type": "code",
   "execution_count": 3,
   "id": "dd1de9bd",
   "metadata": {},
   "outputs": [
    {
     "name": "stdout",
     "output_type": "stream",
     "text": [
      "肯定。\n"
     ]
    }
   ],
   "source": [
    "text = f\"\"\"\n",
    "蜀九香的火爆又岂能用门口排着的长队来衡量?食客们食过境迁后的口碑相传才是火锅的最高境界。 \\\n",
    "一锅淳厚的汤,带着鲜美的辣味霸道地将你征服,完全对得起地道四川火锅的称号。贴心特制的九格锅,方 \\\n",
    "便涮烫不同的菜肴,与古色古香的环境是天作之合,让你在享受饕餮盛宴之余更承载视觉的惬意。\n",
    "\"\"\"\n",
    "prompt = f\"\"\"\n",
    "对下面这段由三个单引号包围的文字内容进行评价，要求用一个词来回答，比如“肯定”或“否定”\n",
    "```{text}```\n",
    "\"\"\"\n",
    "response = get_completion(prompt)\n",
    "print(response)"
   ]
  },
  {
   "cell_type": "code",
   "execution_count": null,
   "id": "77666738",
   "metadata": {},
   "outputs": [
    {
     "name": "stdout",
     "output_type": "stream",
     "text": [
      "满意，享受，赞美，推荐，满足。\n"
     ]
    }
   ],
   "source": [
    "text = f\"\"\"\n",
    "蜀九香的火爆又岂能用门口排着的长队来衡量?食客们食过境迁后的口碑相传才是火锅的最高境界。 \\\n",
    "一锅淳厚的汤,带着鲜美的辣味霸道地将你征服,完全对得起地道四川火锅的称号。贴心特制的九格锅,方 \\\n",
    "便涮烫不同的菜肴,与古色古香的环境是天作之合,让你在享受饕餮盛宴之余更承载视觉的惬意。\n",
    "\"\"\"\n",
    "prompt = f\"\"\"\n",
    "概括下面这段由三个单引号包围的文字内容所透露出的情感，用五个词作为回答，结果用逗号分隔\n",
    "```{text}```\n",
    "\"\"\"\n",
    "response = get_completion(prompt)\n",
    "print(response)"
   ]
  },
  {
   "attachments": {},
   "cell_type": "markdown",
   "id": "dadf267f",
   "metadata": {},
   "source": [
    "从文本中抽取关键信息,并格式化输出\n"
   ]
  },
  {
   "cell_type": "code",
   "execution_count": null,
   "id": "2cb708d8",
   "metadata": {},
   "outputs": [
    {
     "name": "stdout",
     "output_type": "stream",
     "text": [
      "{\n",
      "    \"菜肴名称\": \"火锅\",\n",
      "    \"品牌名称\": \"蜀九香\"\n",
      "}\n"
     ]
    }
   ],
   "source": [
    "text = f\"\"\"\n",
    "蜀九香的火爆又岂能用门口排着的长队来衡量?食客们食过境迁后的口碑相传才是火锅的最高境界。 \\\n",
    "一锅淳厚的汤,带着鲜美的辣味霸道地将你征服,完全对得起地道四川火锅的称号。贴心特制的九格锅,方 \\\n",
    "便涮烫不同的菜肴,与古色古香的环境是天作之合,让你在享受饕餮盛宴之余更承载视觉的惬意。\n",
    "\"\"\"\n",
    "prompt = f\"\"\"\n",
    "从下面这段由三个单引号包围的文字内容中抽取菜肴的名称以及相应的品牌名称，结果用json格式输出\n",
    "```{text}```\n",
    "\"\"\"\n",
    "response = get_completion(prompt)\n",
    "print(response)"
   ]
  },
  {
   "attachments": {},
   "cell_type": "markdown",
   "id": "72ecf34e",
   "metadata": {},
   "source": [
    "一次性执行多个任务"
   ]
  },
  {
   "cell_type": "code",
   "execution_count": 5,
   "id": "2ec37023",
   "metadata": {},
   "outputs": [
    {
     "name": "stdout",
     "output_type": "stream",
     "text": [
      "{\n",
      "  \"情绪\": \"积极\",\n",
      "  \"愤怒\": false,\n",
      "  \"物品\": \"火锅\",\n",
      "  \"品牌\": \"蜀九香\"\n",
      "}\n"
     ]
    }
   ],
   "source": [
    "prompt = f\"\"\"\n",
    "从由三个单引号包裹的文本中识别以下内容：\n",
    "-情绪（积极或消极）\n",
    "-评论者是否表达了愤怒？（真或假）\n",
    "-审核人购买的物品\n",
    "-制造该商品的公司\n",
    "\n",
    "将输出格式化为JSON对象\n",
    "“情绪”、“愤怒”、“物品”、“品牌” 是json对象的四个键。\n",
    "如果信息不存在，请使用“未知”作为值。\n",
    "尽可能简短地回答。\n",
    "将愤怒设置为布尔值。\n",
    "'''{text}'''\n",
    "\"\"\"\n",
    "response = get_completion(prompt)\n",
    "print(response)"
   ]
  },
  {
   "attachments": {},
   "cell_type": "markdown",
   "id": "0e65b0de",
   "metadata": {},
   "source": [
    "主题预测"
   ]
  },
  {
   "cell_type": "code",
   "execution_count": null,
   "id": "0f123b9b",
   "metadata": {},
   "outputs": [
    {
     "name": "stdout",
     "output_type": "stream",
     "text": [
      "中吉关系提升，全面战略伙伴，共建一带一路，相互支持，命运共同体。\n"
     ]
    }
   ],
   "source": [
    "text = f\"\"\"\n",
    "新华社西安5月18日电（记者朱超、张京品）5月18日上午，国家主席习近平在西安同来华出席中国－中亚峰会并进行国事访问的吉尔吉斯斯坦总统扎帕罗夫会谈。两国元首宣布，将中吉关系提升为新时代全面战略伙伴关系。\n",
    "\n",
    "习近平指出，去年我们两度会面，就中吉关系和两国各领域合作达成的重要共识正在得到有效落实，为两国关系发展注入强劲动力。中吉关系已经走过31年发展历程，中方愿同吉方构建睦邻友好、共享繁荣的中吉命运共同体，助力两国发展振兴。\n",
    "\n",
    "习近平强调，中吉要加大相互支持，特别是明确有力支持彼此核心利益，做相互信任、相互倚重的好朋友。要加强发展战略对接和政策协调，以高质量共建“一带一路”推进各领域务实合作，提升经贸合作水平，推进民生项目建设和扶贫减贫、乡村振兴等领域合作，深化互联互通合作，早日启动中吉乌铁路建设。中方愿增加进口吉优质农副产品，鼓励更多中国企业赴吉投资兴业。双方还要加强地方合作，扩大人文交流，筑牢两国关系发展的社会和民意基础。要深化安全合作，为共建“一带一路”和两国发展建设提供良好安全环境。\n",
    "\n",
    "扎帕罗夫表示，很高兴来到充满历史意义的古丝绸之路起点访问，热烈祝贺中国成功完成系列国内重大政治议程，相信在习近平主席坚强有力领导下，中国各领域发展必将取得新的辉煌成就，在世界上发挥更加重要作用。当前吉中关系处于历史最好水平，吉方支持中方在台湾、涉疆、涉港等核心利益问题上的立场坚定不移，支持中方提出的全球安全倡议、全球发展倡议，愿同中方坚定相互支持，密切沟通协作，共同促进两国和地区安全与发展。吉方将全力为中国企业提供安全良好的投资环境，持续推进共建“一带一路”。今天我们将吉中关系提升至新时代全面战略伙伴关系，并就构建吉中命运共同体达成一致，必将推动两国全方位互利合作迈上新的台阶。\n",
    "\n",
    "扎帕罗夫表示，我对即将举行的中国－中亚峰会充满期待，愿同中方一道将其打造成为中亚国家和中国密切双边和地区合作的新平台。\n",
    "\n",
    "会谈后，两国元首签署了《中华人民共和国和吉尔吉斯共和国关于建立新时代全面战略伙伴关系的联合宣言》，并共同见证签署经贸、产业与投资、海关、农业、人文等领域多项双边合作文件。\n",
    "\n",
    "蔡奇、王毅、秦刚等参加上述活动。\n",
    "\"\"\"\n",
    "prompt = f\"\"\"\n",
    "用五个中文词汇来表达下面这段由三个单引号包围的文字内容中的主题，结果的五个词之间用逗号分隔\n",
    "```{text}```\n",
    "\"\"\"\n",
    "response = get_completion(prompt)\n",
    "print(response)"
   ]
  },
  {
   "cell_type": "code",
   "execution_count": 6,
   "id": "2b4d7dda",
   "metadata": {},
   "outputs": [],
   "source": [
    "text = f\"\"\"\n",
    "在政府最近进行的一项调查中，公共部门员工被要求对他们工作的部门感到满意的水平进行评分。\n",
    "结果显示，美国国家航空航天局是最受欢迎的,部门的满意度为95%。\n",
    "\n",
    "美国国家航空航天局的一名员工John Smith对这一发现发表了评论，他说：“美国国家航空航天局脱颖而出，我并不感到惊讶。\n",
    "这是一个与了不起的人一起工作的好地方,是一个难以置信的机会。我很自豪能成为这样一个创新的组织中的一员。”\n",
    "\n",
    "这一结果也受到了美国国家航空航天局管理团队的欢迎，导演汤姆·约翰逊表示：“我们很高兴听说我们的员工对他们在美国国家航空航天局的工作感到满意。\n",
    "我们有一支才华横溢、兢兢业业的团队，他们不知疲倦地工作,为了实现我们的目标，看到他们努力工作是有回报的。”\n",
    "\n",
    "调查还显示社会保障管理部门的满意度最低评级，只有45%的员工表示他们对他们的工作感到满意。政府已承诺解决员工在调查中提出的问题，以及努力提高所有部门的工作满意度。\n",
    "\"\"\""
   ]
  },
  {
   "cell_type": "code",
   "execution_count": 10,
   "id": "c96b4bfa",
   "metadata": {},
   "outputs": [
    {
     "name": "stdout",
     "output_type": "stream",
     "text": [
      "调查、公共部门员工、满意度、美国国家航空航天局、社会保障管理部门\n"
     ]
    }
   ],
   "source": [
    "prompt = f\"\"\"\n",
    "阅读下面这段由三个单引号包围的文字内容，然后确定该文字内容所讨论的五个主题，结果用逗号进行格式化输出,每个主题尽量用一两个词来表达。\n",
    "'''{text}'''\n",
    "\"\"\"\n",
    "response = get_completion(prompt)\n",
    "print(response)"
   ]
  },
  {
   "attachments": {},
   "cell_type": "markdown",
   "id": "2984d424",
   "metadata": {},
   "source": [
    "主题分类"
   ]
  },
  {
   "cell_type": "code",
   "execution_count": 15,
   "id": "cc338a01",
   "metadata": {},
   "outputs": [
    {
     "name": "stdout",
     "output_type": "stream",
     "text": [
      "美国国家航空航天局：1\n",
      "火锅：0\n",
      "蜀九香：0\n",
      "社会保障管理部门：0\n",
      "员工满意度：1\n"
     ]
    }
   ],
   "source": [
    "topic_list = [\n",
    "    \"美国国家航空航天局\", \"火锅\", \"蜀九香\", \n",
    "    \"社会保障管理部门\", \"员工满意度\"\n",
    "]\n",
    "prompt = f\"\"\"\n",
    "确认由三个单引号包围的文本中是否讨论了主题列表中的主题。\n",
    "通过 0 和 1 来表示每主题列表中每一项的结果，0 表示否，1 表示是。\n",
    "仅给出结论，不要有其余的描述。\n",
    "\n",
    "主题列表: {\", \".join(topic_list)}\n",
    "\n",
    "'''{text}'''\n",
    "\"\"\"\n",
    "response = get_completion(prompt)\n",
    "print(response)"
   ]
  },
  {
   "cell_type": "code",
   "execution_count": 17,
   "id": "ea7d0a96",
   "metadata": {},
   "outputs": [
    {
     "name": "stdout",
     "output_type": "stream",
     "text": [
      "确认: 新的nasa故事!\n"
     ]
    }
   ],
   "source": [
    "topic_dict = {i.split('：')[0]: int(i.split('：')[1]) for i in response.split(sep='\\n')}\n",
    "if topic_dict['美国国家航空航天局'] == 1:\n",
    "    print(\"确认: 新的nasa故事!\")"
   ]
  }
 ],
 "metadata": {
  "kernelspec": {
   "display_name": "llm",
   "language": "python",
   "name": "python3"
  },
  "language_info": {
   "codemirror_mode": {
    "name": "ipython",
    "version": 3
   },
   "file_extension": ".py",
   "mimetype": "text/x-python",
   "name": "python",
   "nbconvert_exporter": "python",
   "pygments_lexer": "ipython3",
   "version": "3.9.16"
  }
 },
 "nbformat": 4,
 "nbformat_minor": 5
}

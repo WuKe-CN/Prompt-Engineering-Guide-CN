{
 "cells": [
  {
   "attachments": {},
   "cell_type": "markdown",
   "id": "e3993515-9710-4ac4-89e9-b35ebb81e920",
   "metadata": {
    "id": "rhqRhkElpJ0z"
   },
   "source": [
    "在本笔记本中，我们将探讨如何使用大型语言模型进行文本转换任务，如语言翻译、拼写和语法检查、语气调整和格式转换。"
   ]
  },
  {
   "cell_type": "code",
   "execution_count": 1,
   "id": "41df0348",
   "metadata": {
    "height": 132,
    "tags": []
   },
   "outputs": [],
   "source": [
    "import openai\n",
    "import os\n",
    "\n",
    "# from dotenv import load_dotenv, find_dotenv\n",
    "# _ = load_dotenv(find_dotenv()) # read local .env file\n",
    "\n",
    "openai.api_key  = \"你的key\"\n",
    "openai.api_base = \"你的代理地址\""
   ]
  },
  {
   "cell_type": "code",
   "execution_count": 2,
   "id": "6a85ee0f",
   "metadata": {
    "height": 164,
    "tags": []
   },
   "outputs": [],
   "source": [
    "def get_completion(prompt, model=\"gpt-3.5-turbo\", temperature=0): \n",
    "    messages = [{\"role\": \"user\", \"content\": prompt}]\n",
    "    response = openai.ChatCompletion.create(\n",
    "        model=model,\n",
    "        messages=messages,\n",
    "        temperature=temperature, \n",
    "    )\n",
    "    return response.choices[0].message[\"content\"]"
   ]
  },
  {
   "attachments": {},
   "cell_type": "markdown",
   "id": "1d8f0bd8-628e-4c36-bcd0-2110162f25fc",
   "metadata": {
    "id": "zdxC4c6pwqA5"
   },
   "source": [
    "ChatGPT使用多种语言的源代码进行训练。这使模型能够进行翻译。以下是一些如何使用此功能的示例。"
   ]
  },
  {
   "cell_type": "code",
   "execution_count": 26,
   "id": "9c4df6ff",
   "metadata": {
    "height": 115,
    "tags": []
   },
   "outputs": [
    {
     "name": "stdout",
     "output_type": "stream",
     "text": [
      "嗨，我想订购一个搅拌机。\n"
     ]
    }
   ],
   "source": [
    "prompt = f\"\"\"\n",
    "将以下文本翻译为中文: \\ \n",
    "```Hi, I would like to order a blender```\n",
    "\"\"\"\n",
    "response = get_completion(prompt)\n",
    "print(response)"
   ]
  },
  {
   "cell_type": "code",
   "execution_count": 29,
   "id": "7300ed9b",
   "metadata": {
    "height": 115,
    "tags": []
   },
   "outputs": [
    {
     "name": "stdout",
     "output_type": "stream",
     "text": [
      "这是法语。\n"
     ]
    }
   ],
   "source": [
    "prompt = f\"\"\"\n",
    "告诉我这是什么语言: \n",
    "```Combien coûte le lampadaire?```\n",
    "\"\"\"\n",
    "response = get_completion(prompt)\n",
    "print(response)"
   ]
  },
  {
   "cell_type": "code",
   "execution_count": 4,
   "id": "791e789b",
   "metadata": {
    "height": 132,
    "tags": []
   },
   "outputs": [
    {
     "name": "stdout",
     "output_type": "stream",
     "text": [
      "中文：我想订购一个篮球\n",
      "法语：Je veux commander un ballon de basket\n",
      "西班牙语：Quiero pedir una pelota de baloncesto\n"
     ]
    }
   ],
   "source": [
    "prompt = f\"\"\"\n",
    "将下面的语句分别翻译为中文，法语和西班牙语: \\\n",
    "```I want to order a basketball```\n",
    "\"\"\"\n",
    "response = get_completion(prompt)\n",
    "print(response)"
   ]
  },
  {
   "cell_type": "code",
   "execution_count": 12,
   "id": "2b89d2c7",
   "metadata": {},
   "outputs": [
    {
     "name": "stdout",
     "output_type": "stream",
     "text": [
      "正式：通过我们的创新解决方案升级您的技术。我们的团队提供高质量的产品，既强大又直观，设计时考虑了用户的需求。拥有卓越的客户服务和支持，今天就体验不同吧。\n",
      "\n",
      "非正式：用我们的创新解决方案升级你的技术吧！我们的团队提供顶级产品，强大又好用，考虑到了用户的需求。我们的客户服务和支持也是一流的，快来感受一下吧！\n"
     ]
    }
   ],
   "source": [
    "prompt = f\"\"\"\n",
    "将下面的文本翻译为中文，采用正式和非正式两种形式: \n",
    "'Upgrade your tech with our innovative solutions. \n",
    "Our team offers top-quality products that are both powerful and intuitive, designed with the user in mind.\n",
    "With exceptional customer service and support, experience the difference today'\n",
    "\"\"\"\n",
    "response = get_completion(prompt)\n",
    "print(response)"
   ]
  },
  {
   "cell_type": "code",
   "execution_count": 41,
   "id": "fcf7eb63",
   "metadata": {
    "height": 132,
    "tags": []
   },
   "outputs": [
    {
     "name": "stdout",
     "output_type": "stream",
     "text": [
      "正式翻译：通过我们的创新解决方案升级您的技术。我们的团队提供高质量的产品，既强大又直观，设计时考虑了用户的需求。我们提供卓越的客户服务和支持，立即体验不同。\n",
      "\n",
      "非正式翻译：升级你的科技，用我们的黑科技。我们的团队提供顶级产品，强大又好用，全是为了你这个小可爱。我们的客服超级棒，有问题随时找我们，今天就来试试吧！\n"
     ]
    }
   ],
   "source": [
    "prompt = f\"\"\"\n",
    "将下面的文本翻译为中文，采用正式和非正式两种形式，其中非正式的翻译请诙谐幽默一些: \n",
    "'Upgrade your tech with our innovative solutions. \n",
    "Our team offers top-quality products that are both powerful and intuitive, designed with the user in mind.\n",
    "With exceptional customer service and support, experience the difference today'\n",
    "\"\"\"\n",
    "response = get_completion(prompt)\n",
    "print(response)"
   ]
  },
  {
   "cell_type": "code",
   "execution_count": 10,
   "id": "b307c761",
   "metadata": {},
   "outputs": [
    {
     "name": "stdout",
     "output_type": "stream",
     "text": [
      "正式翻译：通过我们的创新解决方案升级您的技术。我们的团队提供高质量的产品，既强大又直观，设计时考虑了用户的需求。我们提供卓越的客户服务和支持，立即体验不同。\n",
      "\n",
      "非正式翻译：升级你的科技，用我们的黑科技。我们的团队提供了一堆牛逼的产品，不仅强大还好用，全是为了让你爽。我们的客服和支持也是一级棒，别犹豫，赶紧来试试吧！\n"
     ]
    }
   ],
   "source": [
    "prompt = f\"\"\"\n",
    "将下面的文本翻译为中文，采用正式和非正式两种形式，其中非正式的翻译请诙谐幽默一些，以流畅通顺为主: \n",
    "'Upgrade your tech with our innovative solutions. \n",
    "Our team offers top-quality products that are both powerful and intuitive, designed with the user in mind.\n",
    "With exceptional customer service and support, experience the difference today'\n",
    "\"\"\"\n",
    "response = get_completion(prompt)\n",
    "print(response)"
   ]
  },
  {
   "cell_type": "code",
   "execution_count": 11,
   "id": "e4c4f54d",
   "metadata": {},
   "outputs": [
    {
     "name": "stdout",
     "output_type": "stream",
     "text": [
      "正式翻译：使用我们的创新解决方案升级您的技术。我们的团队提供高质量的产品，既强大又直观，设计时考虑了用户的需求。通过卓越的客户服务和支持，今天就体验不同。\n",
      "\n",
      "非正式翻译：嘿，升级你的科技吧，我们有超棒的解决方案。我们的团队提供顶级产品，强大又好用，考虑到了用户的需求。而且我们的客户服务和支持也是一流的，今天就来感受一下吧！\n"
     ]
    }
   ],
   "source": [
    "prompt = f\"\"\"\n",
    "将下面的文本翻译为中文，采用正式和非正式两种形式，其中非正式的翻译请使用日常对话的口吻，轻松愉快些: \n",
    "'Upgrade your tech with our innovative solutions. \n",
    "Our team offers top-quality products that are both powerful and intuitive, designed with the user in mind.\n",
    "With exceptional customer service and support, experience the difference today'\n",
    "\"\"\"\n",
    "response = get_completion(prompt)\n",
    "print(response)"
   ]
  },
  {
   "attachments": {},
   "cell_type": "markdown",
   "id": "8edb56d2-a32a-470f-9f40-4fc5b1ea0849",
   "metadata": {
    "id": "-hN2bczQrRC1"
   },
   "source": [
    "想象一下，你在一家大型跨国电子商务公司负责IT。用户正在用他们所有的母语向您发送有关IT问题的信息。您的员工来自世界各地，只会说他们的母语。你需要一个通用的翻译！"
   ]
  },
  {
   "cell_type": "code",
   "execution_count": 6,
   "id": "68a40bf0",
   "metadata": {
    "height": 147,
    "tags": []
   },
   "outputs": [],
   "source": [
    "user_messages = [\n",
    "  \"La performance du système est plus lente que d'habitude.\",  # System performance is slower than normal         \n",
    "  \"Mi monitor tiene píxeles que no se iluminan.\",              # My monitor has pixels that are not lighting\n",
    "  \"Il mio mouse non funziona\",                                 # My mouse is not working\n",
    "  \"Mój klawisz Ctrl jest zepsuty\",                             # My keyboard has a broken control key\n",
    "  \"我的屏幕在闪烁\"                                               # My screen is flashing\n",
    "] "
   ]
  },
  {
   "cell_type": "code",
   "execution_count": 7,
   "id": "552d0db9",
   "metadata": {
    "height": 200,
    "tags": []
   },
   "outputs": [
    {
     "name": "stdout",
     "output_type": "stream",
     "text": [
      "Original message (这是法语。): La performance du système est plus lente que d'habitude.\n",
      "简体中文：系统性能比平时慢。\n",
      "繁体中文：系統性能比平時慢。 \n",
      "\n",
      "Original message (这是西班牙语。): Mi monitor tiene píxeles que no se iluminan.\n",
      "简体中文：我的显示器有亮不起来的像素。\n",
      "繁体中文：我的顯示器有亮不起來的像素。 \n",
      "\n",
      "Original message (这是意大利语。): Il mio mouse non funziona\n",
      "简体中文：我的鼠标不工作\n",
      "繁体中文：我的滑鼠不工作 \n",
      "\n",
      "Original message (这是波兰语。): Mój klawisz Ctrl jest zepsuty\n",
      "简体中文：我的Ctrl键坏了\n",
      "繁体中文：我的Ctrl鍵壞了 \n",
      "\n",
      "Original message (这是中文。): 我的屏幕在闪烁\n",
      "简体中文：我的屏幕在闪烁\n",
      "繁体中文：我的螢幕在閃爍 \n",
      "\n"
     ]
    }
   ],
   "source": [
    "for issue in user_messages:\n",
    "    prompt = f\"告诉我这是哪种语言: ```{issue}```\"\n",
    "    lang = get_completion(prompt)\n",
    "    print(f\"Original message ({lang}): {issue}\")\n",
    "\n",
    "    prompt = f\"\"\"\n",
    "    将下面文本翻译为简体中文 \\\n",
    "    以及繁体中文: ```{issue}```\n",
    "    \"\"\"\n",
    "    response = get_completion(prompt)\n",
    "    print(response, \"\\n\")"
   ]
  },
  {
   "attachments": {},
   "cell_type": "markdown",
   "id": "1d9e54ca-f93a-43c8-a295-bff7a89f77f5",
   "metadata": {
    "id": "JH3-0vdjsILh"
   },
   "source": [
    "你可以通过对象的不同选择不同的语气,chatgpt可以根据你的任务和你要发送的对象进行转换"
   ]
  },
  {
   "cell_type": "code",
   "execution_count": 4,
   "id": "5d09794d",
   "metadata": {},
   "outputs": [
    {
     "name": "stdout",
     "output_type": "stream",
     "text": [
      "尊敬的王先生，\n",
      "\n",
      "我是中科闻歌的项目经理小吴。我想了解一下您对我们的产品是否还满意？\n",
      "\n",
      "谢谢您的时间，期待您的回复。\n",
      "\n",
      "祝好！\n",
      "\n",
      "此致\n",
      "\n",
      "敬礼\n",
      "\n",
      "中科闻歌项目经理\n",
      "\n",
      "小吴\n"
     ]
    }
   ],
   "source": [
    "prompt = f\"\"\"\n",
    "将下面的话转换为符合中文格式要求的商务邮件: \n",
    "'王先生，我是中科闻歌的项目经理小吴，想知道您对我们的产品还满意吗？'\n",
    "\"\"\"\n",
    "response = get_completion(prompt)\n",
    "print(response)"
   ]
  },
  {
   "cell_type": "code",
   "execution_count": 5,
   "id": "2deac328",
   "metadata": {
    "height": 115,
    "tags": []
   },
   "outputs": [
    {
     "name": "stdout",
     "output_type": "stream",
     "text": [
      "尊敬的王先生：\n",
      "\n",
      "您好！我是中科闻歌的项目经理吴可。在此，我想向您致以最诚挚的问候和祝福！\n",
      "\n",
      "感谢您一直以来对我们产品的支持和信任。为了更好地服务于您，我想了解一下您对我们的产品是否还满意呢？如果有任何问题或建议，欢迎随时与我联系，我会尽快为您解决。\n",
      "\n",
      "同时，也希望您的生活和工作一切顺利，身体健康，万事如意！\n",
      "\n",
      "期待您的回复！\n",
      "\n",
      "祝好！\n",
      "\n",
      "中科闻歌项目经理 吴可\n"
     ]
    }
   ],
   "source": [
    "prompt = f\"\"\"\n",
    "将下面的话转换为符合中文格式要求的商务邮件\\\n",
    "    添加一些关心对方生活的客套话，显得亲切又不失礼数: \n",
    "'王先生，我是中科闻歌的项目经理吴可，想知道您对我们的产品还满意吗？'\n",
    "\"\"\"\n",
    "response = get_completion(prompt)\n",
    "print(response)"
   ]
  },
  {
   "cell_type": "code",
   "execution_count": 4,
   "id": "5912e066",
   "metadata": {},
   "outputs": [
    {
     "name": "stdout",
     "output_type": "stream",
     "text": [
      "亲爱的妈妈：\n",
      "\n",
      "今天是母亲节，我想对您说声谢谢。谢谢您一直以来的养育之恩，谢谢您为我付出的一切。您是我生命中最重要的人，没有您的支持和鼓励，我不可能成为今天的我。\n",
      "\n",
      "妈妈，您是我生命中最坚强的人。您总是在我需要您的时候出现，给我力量和勇气。您的爱和关心让我感到温暖和安慰。我知道，您为了我付出了很多，您的辛苦和努力我都看在眼里。\n",
      "\n",
      "妈妈，我想对您说声对不起。我知道我曾经让您失望和伤心，但是我会努力变得更好，让您为我骄傲。我会好好学习，做一个有用的人，回报您的养育之恩。\n",
      "\n",
      "最后，我想对您说声我爱您。您是我生命中最重要的人，我会一直珍惜您，爱您，直到永远。\n",
      "\n",
      "祝您母亲节快乐！\n",
      "\n",
      "您的儿子\n"
     ]
    }
   ],
   "source": [
    "prompt = f'''\n",
    "母亲节到了，用儿子的口吻写一封寄给妈妈的信\\\n",
    "要求真情实意，表达对母亲养育之恩的感谢\\\n",
    "字数在200字左右\\\n",
    "'''\n",
    "response = get_completion(prompt)\n",
    "print(response)"
   ]
  },
  {
   "attachments": {},
   "cell_type": "markdown",
   "id": "a2c7eb73-6b82-442d-b4f8-251c308e89d5",
   "metadata": {
    "id": "p3e9sZh5tWIa"
   },
   "source": [
    "ChatGPT可以在格式之间进行转换。提示应该描述输入和输出格式。"
   ]
  },
  {
   "cell_type": "code",
   "execution_count": 6,
   "id": "5a37f0a0",
   "metadata": {
    "height": 232,
    "tags": []
   },
   "outputs": [
    {
     "name": "stdout",
     "output_type": "stream",
     "text": [
      "<table>\n",
      "  <tr>\n",
      "    <th>姓名</th>\n",
      "    <th>电话号码</th>\n",
      "  </tr>\n",
      "  <tr>\n",
      "    <td>俞云清</td>\n",
      "    <td>647984135</td>\n",
      "  </tr>\n",
      "  <tr>\n",
      "    <td>陆宇科</td>\n",
      "    <td>419481364</td>\n",
      "  </tr>\n",
      "  <tr>\n",
      "    <td>宋飞鹏</td>\n",
      "    <td>178914566</td>\n",
      "  </tr>\n",
      "</table>\n"
     ]
    }
   ],
   "source": [
    "data_json = { \"小组成员联系方式\" :[ \n",
    "    {\"姓名\":\"俞云清\", \"电话号码\":\"647984135\"},\n",
    "    {\"姓名\":\"陆宇科\", \"电话号码\":\"419481364\"},\n",
    "    {\"姓名\":\"宋飞鹏\", \"电话号码\":\"178914566\"}\n",
    "]}\n",
    "\n",
    "prompt = f\"\"\"\n",
    "帮我把数据从json格式转为HTML格式 \\\n",
    "具有列标题和标题的表格，标题为: {data_json}\n",
    "\"\"\"\n",
    "response = get_completion(prompt)\n",
    "print(response)"
   ]
  },
  {
   "cell_type": "code",
   "execution_count": 7,
   "id": "481a46b7",
   "metadata": {
    "height": 62,
    "tags": []
   },
   "outputs": [
    {
     "data": {
      "text/html": [
       "<table>\n",
       "  <tr>\n",
       "    <th>姓名</th>\n",
       "    <th>电话号码</th>\n",
       "  </tr>\n",
       "  <tr>\n",
       "    <td>俞云清</td>\n",
       "    <td>647984135</td>\n",
       "  </tr>\n",
       "  <tr>\n",
       "    <td>陆宇科</td>\n",
       "    <td>419481364</td>\n",
       "  </tr>\n",
       "  <tr>\n",
       "    <td>宋飞鹏</td>\n",
       "    <td>178914566</td>\n",
       "  </tr>\n",
       "</table>"
      ],
      "text/plain": [
       "<IPython.core.display.HTML object>"
      ]
     },
     "metadata": {},
     "output_type": "display_data"
    }
   ],
   "source": [
    "from IPython.display import display, Markdown, Latex, HTML, JSON\n",
    "display(HTML(response))"
   ]
  },
  {
   "attachments": {},
   "cell_type": "markdown",
   "id": "2df1824c-534b-45cb-b0c1-3000bba5adbe",
   "metadata": {
    "id": "qLTz16qEzyT_"
   },
   "source": [
    "\n",
    "以下是一些常见语法和拼写问题的例子，以及LLM的回应。\n",
    "为了向LLM表明你希望它校对你的文本，你指示模型“校对”或“校对并更正”。"
   ]
  },
  {
   "cell_type": "code",
   "execution_count": 8,
   "id": "3e07da44",
   "metadata": {},
   "outputs": [
    {
     "name": "stdout",
     "output_type": "stream",
     "text": [
      "下面的文本中没有错误的语句是：\n",
      "\n",
      "```我们班有很多的学生，其中有二十个是男的和女的。```\n"
     ]
    }
   ],
   "source": [
    "text = [ \n",
    "  \"吴先生说她今天休息.\"\n",
    "  \"王老师会来讲课吗？\"\n",
    "  \"我们班有很多的学生，其中有二十个是男的和女的。\"\n",
    "  \"我们去年夏天在海边游泳的时候，看见了很多漂亮的小鱼们。\"]\n",
    "for t in text:\n",
    "    prompt = f\"\"\"\n",
    "    下面的文本中没有错误的语句是哪几句？\n",
    "    ```{t}```\"\"\"\n",
    "    response = get_completion(prompt)\n",
    "    print(response)"
   ]
  },
  {
   "cell_type": "code",
   "execution_count": 9,
   "id": "7cda8ee5",
   "metadata": {},
   "outputs": [
    {
     "name": "stdout",
     "output_type": "stream",
     "text": [
      "第一句和第二句有错误。第一句应该是“吴先生说他今天休息”，因为“她”指代的是女性，而“吴先生”是男性；第二句应该是“王老师会来讲课吗？”而不是“会来讲课吗？”因为“我们班”已经明确了主语，不需要再重复。\n"
     ]
    }
   ],
   "source": [
    "text = [ \n",
    "  \"吴先生说她今天休息.\"\n",
    "  \"王老师会来讲课吗？\"\n",
    "  \"我们班有很多的学生，其中有二十个是男的和女的。\"\n",
    "  \"我们去年夏天在海边游泳的时候，看见了很多漂亮的小鱼们。\"]\n",
    "for t in text:\n",
    "    prompt = f\"\"\"\n",
    "    下面的文本中有错误的语句是哪几句？\n",
    "    ```{t}```\"\"\"\n",
    "    response = get_completion(prompt)\n",
    "    print(response)"
   ]
  },
  {
   "cell_type": "code",
   "execution_count": 4,
   "id": "52d77283",
   "metadata": {
    "height": 317,
    "tags": []
   },
   "outputs": [
    {
     "name": "stdout",
     "output_type": "stream",
     "text": [
      "吴先生说他今天休息。\n",
      "王老师会来讲课吗？（没有错误）\n",
      "我们班有很多学生，其中有二十个男生和二十个女生。\n",
      "我们去年夏天在海边游泳的时候，看见了很多漂亮的小鱼。\n"
     ]
    }
   ],
   "source": [
    "text = [ \n",
    "  \"吴先生说她今天休息。\",\n",
    "  \"王老师会来讲课吗？\",\n",
    "  \"我们班有很多的学生，其中有二十个是男的和女的。\",\n",
    "  \"我们去年夏天在海边游泳的时候，看见了很多漂亮的小鱼们。\"]\n",
    "for t in text:\n",
    "    prompt = f\"\"\"阅读下面的文本。\\\n",
    "    如果你发现了错误，校对、更正文本，并输出正确答案；\\\n",
    "    每句话单独作为一行输出结果:\n",
    "    ```{t}```\"\"\"\n",
    "    response = get_completion(prompt)\n",
    "    print(response)"
   ]
  },
  {
   "cell_type": "code",
   "execution_count": 6,
   "id": "97f76f0d",
   "metadata": {},
   "outputs": [
    {
     "name": "stdout",
     "output_type": "stream",
     "text": [
      "吴先生说他今天休息。\n",
      "王老师会来讲课吗？没有发现错误。\n",
      "我们班有很多学生，其中有二十个是男生和女生。 \n",
      "我们去年夏天在海边游泳的时候，看见了很多漂亮的小鱼。\n"
     ]
    }
   ],
   "source": [
    "text = [ \n",
    "  \"吴先生说她今天休息。\"\n",
    "  \"王老师会来讲课吗？\"\n",
    "  \"我们班有很多的学生，其中有二十个是男的和女的。\"\n",
    "  \"我们去年夏天在海边游泳的时候，看见了很多漂亮的小鱼们。\"]\n",
    "for t in text:\n",
    "    prompt = f\"\"\"阅读下面的文本。\\\n",
    "    如果你发现了错误，校对、更正文本，并输出正确答案；如果你认为语句没有错误，只需输出'没有发现错误'。\\\n",
    "    每句话单独作为一行输出结果:\n",
    "    ```{t}```\"\"\"\n",
    "    response = get_completion(prompt)\n",
    "    print(response)"
   ]
  },
  {
   "attachments": {},
   "cell_type": "markdown",
   "id": "1b5ed0b8",
   "metadata": {},
   "source": [
    "英文的语法校对"
   ]
  },
  {
   "cell_type": "code",
   "execution_count": 7,
   "id": "7543fe7d",
   "metadata": {
    "height": 249,
    "tags": []
   },
   "outputs": [
    {
     "name": "stdout",
     "output_type": "stream",
     "text": [
      "I got this for my daughter's birthday because she keeps taking mine from my room. Yes, adults also like pandas too. She takes it everywhere with her, and it's super soft and cute. One of the ears is a bit lower than the other, and I don't think that was designed to be asymmetrical. It's a bit small for what I paid for it though. I think there might be other options that are bigger for the same price. It arrived a day earlier than expected, so I got to play with it myself before I gave it to my daughter.\n"
     ]
    }
   ],
   "source": [
    "text = f\"\"\"\n",
    "Got this for my daughter for her birthday cuz she keeps taking \\\n",
    "mine from my room.  Yes, adults also like pandas too.  She takes \\\n",
    "it everywhere with her, and it's super soft and cute.  One of the \\\n",
    "ears is a bit lower than the other, and I don't think that was \\\n",
    "designed to be asymmetrical. It's a bit small for what I paid for it \\\n",
    "though. I think there might be other options that are bigger for \\\n",
    "the same price.  It arrived a day earlier than expected, so I got \\\n",
    "to play with it myself before I gave it to my daughter.\n",
    "\"\"\"\n",
    "prompt = f\"校对并更正下面的文本: ```{text}```\"\n",
    "response = get_completion(prompt)\n",
    "print(response)"
   ]
  },
  {
   "cell_type": "code",
   "execution_count": 10,
   "id": "11ac80a0",
   "metadata": {
    "height": 81,
    "tags": []
   },
   "outputs": [
    {
     "data": {
      "text/markdown": [
       "<span style=\"color:red;font-weight:700;text-decoration:line-through;\">Got </span><span style=\"color:red;font-weight:700;\">I got </span>this for my <span style=\"color:red;font-weight:700;text-decoration:line-through;\">daughter for her </span><span style=\"color:red;font-weight:700;\">daughter's </span>birthday <span style=\"color:red;font-weight:700;text-decoration:line-through;\">cuz </span><span style=\"color:red;font-weight:700;\">because </span>she keeps taking mine from my <span style=\"color:red;font-weight:700;text-decoration:line-through;\">room.  </span><span style=\"color:red;font-weight:700;\">room. </span>Yes, adults also like pandas <span style=\"color:red;font-weight:700;text-decoration:line-through;\">too.  </span><span style=\"color:red;font-weight:700;\">too. </span>She takes it everywhere with her, and it's super soft and <span style=\"color:red;font-weight:700;text-decoration:line-through;\">cute.  </span><span style=\"color:red;font-weight:700;\">cute. </span>One of the ears is a bit lower than the other, and I don't think that was designed to be asymmetrical. It's a bit small for what I paid for it though. I think there might be other options that are bigger for the same <span style=\"color:red;font-weight:700;text-decoration:line-through;\">price.  </span><span style=\"color:red;font-weight:700;\">price. </span>It arrived a day earlier than expected, so I got to play with it myself before I gave it to my daughter."
      ],
      "text/plain": [
       "<IPython.core.display.Markdown object>"
      ]
     },
     "metadata": {},
     "output_type": "display_data"
    }
   ],
   "source": [
    "from redlines import Redlines\n",
    "from IPython.display import display, Markdown\n",
    "diff = Redlines(text,response)\n",
    "display(Markdown(diff.output_markdown))"
   ]
  },
  {
   "cell_type": "code",
   "execution_count": 11,
   "id": "2b4e73fd",
   "metadata": {
    "height": 164,
    "tags": []
   },
   "outputs": [
    {
     "data": {
      "text/markdown": [
       "任务一：\n",
       "\n",
       "我为女儿的生日买了这个，因为她总是从我的房间拿我的。是的，成年人也喜欢熊猫。她随身携带它，它非常柔软和可爱。其中一只耳朵比另一只低一点，我不认为这是设计上的不对称。不过，相对于我付出的价格，它有点小。我认为可能有其他同样价格但更大的选择。它比预期提前了一天到达，所以我在把它送给女儿之前自己玩了一下。\n",
       "\n",
       "任务二：\n",
       "\n",
       "我为女儿的生日买了这个熊猫，因为她总是从我的房间拿我的。但是，这个熊猫不仅仅是为孩子准备的，成年人也会爱上它。它柔软、可爱，是一个完美的陪伴。虽然其中一只耳朵比另一只低一点，但这种不对称的设计让它更加独特。唯一的缺点是，相对于价格，它有点小。但是，如果你想要更大的熊猫，也许可以在同样的价格范围内找到其他选择。总之，这个熊猫比预期提前了一天到达，所以我有足够的时间和它玩耍，然后再送给女儿。"
      ],
      "text/plain": [
       "<IPython.core.display.Markdown object>"
      ]
     },
     "metadata": {},
     "output_type": "display_data"
    }
   ],
   "source": [
    "prompt = f\"\"\"\n",
    "任务一:校对、更正、翻译被三个单引号包裹的文本为中文。\n",
    "任务二:改写被三个单引号包裹的文本,让其更有吸引力，并以高级读者为目标。\n",
    "```{text}```\n",
    "\"\"\"\n",
    "response = get_completion(prompt)\n",
    "display(Markdown(response))"
   ]
  }
 ],
 "metadata": {
  "kernelspec": {
   "display_name": "Python 3 (ipykernel)",
   "language": "python",
   "name": "python3"
  },
  "language_info": {
   "codemirror_mode": {
    "name": "ipython",
    "version": 3
   },
   "file_extension": ".py",
   "mimetype": "text/x-python",
   "name": "python",
   "nbconvert_exporter": "python",
   "pygments_lexer": "ipython3",
   "version": "3.9.16"
  }
 },
 "nbformat": 4,
 "nbformat_minor": 5
}

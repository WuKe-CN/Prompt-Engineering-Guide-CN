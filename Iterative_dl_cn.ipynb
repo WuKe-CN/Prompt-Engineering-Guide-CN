{
 "cells": [
  {
   "cell_type": "code",
   "execution_count": 1,
   "metadata": {},
   "outputs": [],
   "source": [
    "import openai\n",
    "openai.api_key  = \"你的key\"\n",
    "openai.api_base = \"你的代理地址\""
   ]
  },
  {
   "cell_type": "code",
   "execution_count": 2,
   "metadata": {},
   "outputs": [],
   "source": [
    "def get_completion(prompt, model=\"gpt-3.5-turbo\"):\n",
    "    messages = [{\"role\": \"user\", \"content\": prompt}]\n",
    "    response = openai.ChatCompletion.create(\n",
    "        model=model,\n",
    "        messages=messages,\n",
    "        temperature=0, # this is the degree of randomness of the model's output\n",
    "    )\n",
    "    return response.choices[0].message[\"content\"]"
   ]
  },
  {
   "attachments": {},
   "cell_type": "markdown",
   "metadata": {},
   "source": [
    "根据一些材料进行文本生成，可以指定生成的内容风格、限定字数、回复的格式等等"
   ]
  },
  {
   "cell_type": "code",
   "execution_count": 4,
   "metadata": {},
   "outputs": [
    {
     "name": "stdout",
     "output_type": "stream",
     "text": [
      "这款中世纪风格的办公家具包括文件柜、桌子、书柜、会议桌等等，外壳颜色和基础饰面有多种选择。座椅可以带扶手也可以不带，适合家庭或商业环境。构造采用5轮塑料涂层铝底座，气动座椅调节，便于升降。座椅泡沫密度有两种选择，无扶手或8位PU扶手。原产国为意大利。\n"
     ]
    }
   ],
   "source": [
    "fact_sheet_chair = \"\"\"\n",
    "概述\n",
    "\n",
    "-作为一个中世纪风格的办公家具（包括文件柜、桌子、书柜、会议桌等等）一部分。\n",
    "-外壳颜色和基础饰面的多种选择。\n",
    "-可提供塑料前后内饰（SWC-100）或10种面料和6种皮革可选的全套内饰（SWC-110）。\n",
    "-基础饰面选项有：不锈钢、哑光黑色、光泽白色或铬。\n",
    "-椅子可以带扶手也可以不带扶手。\n",
    "-适合家庭或商业环境。\n",
    "-符合合同使用条件。\n",
    "\n",
    "构造\n",
    "-5轮塑料涂层铝底座。\n",
    "-气动座椅调节，便于升降。\n",
    "\n",
    "尺寸\n",
    "-宽度53厘米|20.87英寸\n",
    "-深度51厘米|20.08英寸\n",
    "-高度80厘米| 31.50英寸\n",
    "-座椅高度44厘米|17.32英寸\n",
    "-阀座深度41厘米|16.14英寸\n",
    "\n",
    "选项\n",
    "-软地板脚轮或硬地板脚轮选项。\n",
    "-座椅泡沫密度有两种选择：\n",
    "中等（1.8磅/立方英尺）或高（2.8磅/立方英寸）\n",
    "-无扶手或8位PU扶手\n",
    "\n",
    "材料\n",
    "-具有改性尼龙PA6/PA66涂层的铸铝。\n",
    "-外壳厚度：10毫米。\n",
    "\n",
    "座椅\n",
    "-HD36泡沫\n",
    "\n",
    "原产国\n",
    "-意大利\n",
    "\"\"\"\n",
    "prompt1 = f\"\"\"\n",
    "您的任务是帮助营销团队创建基于产品零售网站的技术情况说明书的描述，至少有50个字。\n",
    "\n",
    "技术情况说明书: ```{fact_sheet_chair}```\n",
    "\"\"\"\n",
    "response = get_completion(prompt1)\n",
    "print(response)"
   ]
  },
  {
   "cell_type": "code",
   "execution_count": 5,
   "metadata": {},
   "outputs": [
    {
     "name": "stdout",
     "output_type": "stream",
     "text": [
      "产品描述：\n",
      "\n",
      "我们很自豪地向您介绍我们的中世纪风格办公家具系列，包括文件柜、桌子、书柜、会议桌等等。我们的家具外壳颜色和基础饰面有多种选择，以满足您的个性化需求。我们提供塑料前后内饰（SWC-100）或10种面料和6种皮革可选的全套内饰（SWC-110），以确保您的舒适和满意度。\n",
      "\n",
      "我们的家具基础饰面选项有：不锈钢、哑光黑色、光泽白色或铬。椅子可以带扶手也可以不带扶手，以适应您的需求。我们的家具适合家庭或商业环境，并符合合同使用条件。\n",
      "\n",
      "我们的家具构造采用5轮塑料涂层铝底座和气动座椅调节，便于升降。尺寸方面，宽度53厘米，深度51厘米，高度80厘米，座椅高度44厘米，阀座深度41厘米。\n",
      "\n",
      "我们提供软地板脚轮或硬地板脚轮选项，以及座椅泡沫密度有两种选择：中等（1.8磅/立方英尺）或高（2.8磅/立方英寸）。您可以选择无扶手或8位PU扶手。\n",
      "\n",
      "我们的家具材料采用具有改性尼龙PA6/PA66涂层的铸铝，外壳厚度为10毫米。座椅采用HD36泡沫，以确保您的舒适和支持。\n",
      "\n",
      "我们的家具原产国为意大利，以确保您获得最高品质的产品。我们相信，我们的中世纪风格办公家具系列将成为您家庭或商业环境的完美选择。\n"
     ]
    }
   ],
   "source": [
    "prompt2 = f\"\"\"\n",
    "您的任务是帮助营销团队创建产品描述，基于产品零售网站的技术情况说明书。\n",
    "本描述旨在针对家具零售商，所以本质上应该是技术性的，并专注于产品所用的材料。\n",
    "\n",
    "技术情况说明书: ```{fact_sheet_chair}```\n",
    "\"\"\"\n",
    "response = get_completion(prompt2)\n",
    "print(response)"
   ]
  },
  {
   "cell_type": "code",
   "execution_count": 8,
   "metadata": {},
   "outputs": [
    {
     "name": "stdout",
     "output_type": "stream",
     "text": [
      "中世纪风格办公家具系列，包括文件柜、桌子、书柜、会议桌等。可选多种外壳颜色和基础饰面，提供塑料或面料/皮革全套内饰。座椅可选带/不带扶手，适用于家庭或商业环境。铸铝外壳厚度10毫米，座椅采用HD36泡沫，座椅泡沫密度可选中等或高。原产国意大利。产品ID：SWC-100/SWC-110。\n"
     ]
    }
   ],
   "source": [
    "prompt3 = f\"\"\"\n",
    "您的任务是帮助营销团队创建产品描述，基于产品零售网站的技术情况说明书。\n",
    "本描述旨在针对家具零售商，所以本质上应该是技术性的，并专注于产品所用的材料。\n",
    "描述材料时应给出技术情况说明书中的产品ID。\n",
    "\n",
    "描述的字数应小于100个字\n",
    "\n",
    "技术情况说明书: ```{fact_sheet_chair}```\n",
    "\"\"\"\n",
    "response = get_completion(prompt3)\n",
    "print(response)"
   ]
  },
  {
   "cell_type": "code",
   "execution_count": 10,
   "metadata": {},
   "outputs": [
    {
     "name": "stdout",
     "output_type": "stream",
     "text": [
      "<div>\n",
      "  <h2>产品描述</h2>\n",
      "  <p>这款家具是中世纪风格的办公家具系列的一部分，包括文件柜、桌子、书柜、会议桌等等。外壳颜色和基础饰面有多种选择，可提供塑料前后内饰（SWC-100）或10种面料和6种皮革可选的全套内饰（SWC-110）。基础饰面选项有不锈钢、哑光黑色、光泽白色或铬。椅子可以带扶手也可以不带扶手，适合家庭或商业环境，符合合同使用条件。</p>\n",
      "  <h2>产品尺寸</h2>\n",
      "  <table>\n",
      "    <caption>产品尺寸</caption>\n",
      "    <tr>\n",
      "      <th>维度名称</th>\n",
      "      <th>测量值（英寸）</th>\n",
      "    </tr>\n",
      "    <tr>\n",
      "      <td>宽度</td>\n",
      "      <td>20.87</td>\n",
      "    </tr>\n",
      "    <tr>\n",
      "      <td>深度</td>\n",
      "      <td>20.08</td>\n",
      "    </tr>\n",
      "    <tr>\n",
      "      <td>高度</td>\n",
      "      <td>31.50</td>\n",
      "    </tr>\n",
      "    <tr>\n",
      "      <td>座椅高度</td>\n",
      "      <td>17.32</td>\n",
      "    </tr>\n",
      "    <tr>\n",
      "      <td>阀座深度</td>\n",
      "      <td>16.14</td>\n",
      "    </tr>\n",
      "  </table>\n",
      "  <h2>选项</h2>\n",
      "  <ul>\n",
      "    <li>软地板脚轮或硬地板脚轮选项</li>\n",
      "    <li>座椅泡沫密度有两种选择：中等（1.8磅/立方英尺）或高（2.8磅/立方英寸）</li>\n",
      "    <li>无扶手或8位PU扶手</li>\n",
      "  </ul>\n",
      "  <h2>材料</h2>\n",
      "  <p>铸铝具有改性尼龙PA6/PA66涂层，外壳厚度为10毫米。座椅采用HD36泡沫。</p>\n",
      "  <h2>原产国</h2>\n",
      "  <p>意大利</p>\n",
      "</div>\n"
     ]
    }
   ],
   "source": [
    "prompt4 = f\"\"\"\n",
    "您的任务是帮助营销团队创建产品描述，基于产品零售网站的技术情况说明书。\n",
    "本描述旨在针对家具零售商，所以本质上应该是技术性的，并专注于产品所用的材料。\n",
    "描述材料时应给出技术情况说明书中的产品ID。\n",
    "在描述之后，给出一个产品尺寸表，该表应该有两列。\n",
    "-在第一列中包括维度的名称。\n",
    "-在第二列中，仅包括以英寸为单位的测量值。\n",
    "-将表格标题定为“产品尺寸”。\n",
    "\n",
    "将所有内容格式化为可在网站中使用的HTML。\n",
    "将描述放在＜div＞元素中。\n",
    "\n",
    "技术情况说明书: ```{fact_sheet_chair}```\n",
    "\"\"\"\n",
    "response = get_completion(prompt4)\n",
    "print(response)"
   ]
  },
  {
   "cell_type": "code",
   "execution_count": 11,
   "metadata": {},
   "outputs": [
    {
     "data": {
      "text/html": [
       "<div>\n",
       "  <h2>产品描述</h2>\n",
       "  <p>这款家具是中世纪风格的办公家具系列的一部分，包括文件柜、桌子、书柜、会议桌等等。外壳颜色和基础饰面有多种选择，可提供塑料前后内饰（SWC-100）或10种面料和6种皮革可选的全套内饰（SWC-110）。基础饰面选项有不锈钢、哑光黑色、光泽白色或铬。椅子可以带扶手也可以不带扶手，适合家庭或商业环境，符合合同使用条件。</p>\n",
       "  <h2>产品尺寸</h2>\n",
       "  <table>\n",
       "    <caption>产品尺寸</caption>\n",
       "    <tr>\n",
       "      <th>维度名称</th>\n",
       "      <th>测量值（英寸）</th>\n",
       "    </tr>\n",
       "    <tr>\n",
       "      <td>宽度</td>\n",
       "      <td>20.87</td>\n",
       "    </tr>\n",
       "    <tr>\n",
       "      <td>深度</td>\n",
       "      <td>20.08</td>\n",
       "    </tr>\n",
       "    <tr>\n",
       "      <td>高度</td>\n",
       "      <td>31.50</td>\n",
       "    </tr>\n",
       "    <tr>\n",
       "      <td>座椅高度</td>\n",
       "      <td>17.32</td>\n",
       "    </tr>\n",
       "    <tr>\n",
       "      <td>阀座深度</td>\n",
       "      <td>16.14</td>\n",
       "    </tr>\n",
       "  </table>\n",
       "  <h2>选项</h2>\n",
       "  <ul>\n",
       "    <li>软地板脚轮或硬地板脚轮选项</li>\n",
       "    <li>座椅泡沫密度有两种选择：中等（1.8磅/立方英尺）或高（2.8磅/立方英寸）</li>\n",
       "    <li>无扶手或8位PU扶手</li>\n",
       "  </ul>\n",
       "  <h2>材料</h2>\n",
       "  <p>铸铝具有改性尼龙PA6/PA66涂层，外壳厚度为10毫米。座椅采用HD36泡沫。</p>\n",
       "  <h2>原产国</h2>\n",
       "  <p>意大利</p>\n",
       "</div>"
      ],
      "text/plain": [
       "<IPython.core.display.HTML object>"
      ]
     },
     "metadata": {},
     "output_type": "display_data"
    }
   ],
   "source": [
    "from IPython.display import display, HTML\n",
    "display(HTML(response))"
   ]
  }
 ],
 "metadata": {
  "kernelspec": {
   "display_name": "llm",
   "language": "python",
   "name": "python3"
  },
  "language_info": {
   "codemirror_mode": {
    "name": "ipython",
    "version": 3
   },
   "file_extension": ".py",
   "mimetype": "text/x-python",
   "name": "python",
   "nbconvert_exporter": "python",
   "pygments_lexer": "ipython3",
   "version": "3.9.16"
  },
  "orig_nbformat": 4
 },
 "nbformat": 4,
 "nbformat_minor": 2
}

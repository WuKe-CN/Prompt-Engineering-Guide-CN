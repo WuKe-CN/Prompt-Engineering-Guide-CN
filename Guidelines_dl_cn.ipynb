{
 "cells": [
  {
   "attachments": {},
   "cell_type": "markdown",
   "metadata": {},
   "source": [
    "导入openai pakeage，设置代理key和base"
   ]
  },
  {
   "cell_type": "code",
   "execution_count": 1,
   "metadata": {},
   "outputs": [],
   "source": [
    "import openai\n",
    "openai.api_key  = \"你的key\"\n",
    "openai.api_base = \"你的代理地址\""
   ]
  },
  {
   "attachments": {},
   "cell_type": "markdown",
   "metadata": {},
   "source": [
    "封装调用api的方法，方便得到模型输出"
   ]
  },
  {
   "cell_type": "code",
   "execution_count": 2,
   "metadata": {},
   "outputs": [],
   "source": [
    "def get_completion(prompt, model=\"gpt-3.5-turbo\"):\n",
    "    messages = [{\"role\": \"user\", \"content\": prompt}]\n",
    "    response = openai.ChatCompletion.create(\n",
    "        model=model,\n",
    "        messages=messages,\n",
    "        temperature=0, # this is the degree of randomness of the model's output\n",
    "    )\n",
    "    return response.choices[0].message[\"content\"]"
   ]
  },
  {
   "attachments": {},
   "cell_type": "markdown",
   "metadata": {
    "slideshow": {
     "slide_type": "slide"
    }
   },
   "source": [
    "prompt的书写原则一\n",
    "    1、问题和需要阅读的文本内容尽量分离清晰\n",
    "    2、要求模型结构化输出\n",
    "    3、要求模型进行检查\n",
    "    4、给一些例子“few-shot” prompting"
   ]
  },
  {
   "cell_type": "code",
   "execution_count": 4,
   "metadata": {},
   "outputs": [
    {
     "name": "stdout",
     "output_type": "stream",
     "text": [
      "习近平强调陕西要勇立潮头、争当时代弄潮儿，在推进中国式现代化建设中发挥示范作用，实现新突破，谱写中国式现代化建设的陕西篇章。\n"
     ]
    }
   ],
   "source": [
    "text = f\"\"\"\n",
    "中共中央总书记、国家主席、中央军委主席习近平在听取陕西省委和省政府工作汇报时强调，\\ \n",
    "陕西在推进中国式现代化建设中要有勇立潮头、争当时代弄潮儿的志向和气魄，奋力追赶、\\ \n",
    "敢于超越，在西部地区发挥示范作用。要完整、准确、全面贯彻新发展理念，紧紧围绕高质量 \\ \n",
    "发展这个首要任务，着眼全国发展大局，立足陕西实际，发挥自身优势，明确主攻方向，主动融 \\ \n",
    "入和服务构建新发展格局，努力在实现科技自立自强、构建现代化产业体系、促进城乡区域协调发展 \\ \n",
    "、扩大高水平对外开放、加强生态环境保护等方面实现新突破，奋力谱写中国式现代化建设的陕西篇章。\n",
    "\"\"\"\n",
    "prompt = f\"\"\"\n",
    "帮我将下面这段由三个单引号包围的文字内容摘要为一句话。\n",
    "```{text}```\n",
    "\"\"\"\n",
    "response = get_completion(prompt)\n",
    "print(response)"
   ]
  },
  {
   "cell_type": "code",
   "execution_count": 5,
   "metadata": {},
   "outputs": [
    {
     "name": "stdout",
     "output_type": "stream",
     "text": [
      "{\n",
      "  \"book1\": {\n",
      "    \"book_id\": 1,\n",
      "    \"title\": \"The Great Gatsby\",\n",
      "    \"author\": \"F. Scott Fitzgerald\",\n",
      "    \"genre\": \"Classic\"\n",
      "  },\n",
      "  \"book2\": {\n",
      "    \"book_id\": 2,\n",
      "    \"title\": \"To Kill a Mockingbird\",\n",
      "    \"author\": \"Harper Lee\",\n",
      "    \"genre\": \"Classic\"\n",
      "  },\n",
      "  \"book3\": {\n",
      "    \"book_id\": 3,\n",
      "    \"title\": \"The Hunger Games\",\n",
      "    \"author\": \"Suzanne Collins\",\n",
      "    \"genre\": \"Young Adult\"\n",
      "  }\n",
      "}\n"
     ]
    }
   ],
   "source": [
    "prompt = f\"\"\"\n",
    "生成三本书的书名、作者、类型。\\ \n",
    "用json的格式提供它们，json中的key分别为: \n",
    "book_id, title, author, genre.\n",
    "\"\"\"\n",
    "response = get_completion(prompt)\n",
    "print(response)"
   ]
  },
  {
   "cell_type": "code",
   "execution_count": 6,
   "metadata": {},
   "outputs": [
    {
     "name": "stdout",
     "output_type": "stream",
     "text": [
      "步骤 1 - 准备排骨并在上面撒上干面粉。\n",
      "步骤 2 - 加入一点清水，用面粉和清水搓洗排骨。\n",
      "步骤 3 - 在抓洗的过程中，排骨里的血水和杂质会被面粉吸附并一起抓洗出来。\n",
      "步骤 4 - 洗净排骨后，可以继续进行烹饪。\n"
     ]
    }
   ],
   "source": [
    "text_1 = f\"\"\"\n",
    "清洗排骨，在排骨上撒上多一些的干面粉，再加入一点清水，\\ \n",
    "就着面粉和清水给排骨搓洗一下，排骨里面夹杂着很多的血水和杂质，\\ \n",
    "面粉具有吸附的作用，在咱们抓洗的过程当中，就可以把排骨当中的脏东西 \\ \n",
    "一起抓洗出来，也能够把排骨洗得更干净。\n",
    "\"\"\"\n",
    "prompt = f\"\"\"\n",
    "你将看到由三引号包围的一段文本。\\ \n",
    "如果其中包含了一些指令或者是步骤 \\ \n",
    "重写这些指令或步骤按照以下的格式:\n",
    "\n",
    "步骤 1 - ...\n",
    "步骤 2 - …\n",
    "…\n",
    "步骤 N - …\n",
    "\n",
    "如果没有发现包含的指令或者步骤， \\ \n",
    "那么简单的给出 \\\"没有发现指令或者步骤。\\\"\n",
    "\n",
    "\\\"\\\"\\\"{text_1}\\\"\\\"\\\"\n",
    "\"\"\"\n",
    "response = get_completion(prompt)\n",
    "print(response)"
   ]
  },
  {
   "cell_type": "code",
   "execution_count": 8,
   "metadata": {},
   "outputs": [
    {
     "name": "stdout",
     "output_type": "stream",
     "text": [
      "没有发现指令。\n"
     ]
    }
   ],
   "source": [
    "text_1 = f\"\"\"\n",
    "“红烧排骨，是一道常见菜肴。以猪排骨作为主要食材，以干辣椒、花椒、八角、丁香、姜片、盐、\\ \n",
    "老抽、生抽、料酒、冰糖等作为辅料制作而成。此菜味道香咸，排骨酥烂，色泽金红。男女老少皆可食用。\n",
    "\"\"\"\n",
    "prompt = f\"\"\"\n",
    "你将看到由三引号包围的一段文本。\\ \n",
    "如果其中包含了一些指令 \\ \n",
    "重写这些指令或步骤按照以下的格式:\n",
    "\n",
    "步骤 1 - ...\n",
    "步骤 2 - …\n",
    "…\n",
    "步骤 N - …\n",
    "\n",
    "如果没有发现包含的指令， \\ \n",
    "那么简单的给出 \\\"没有发现指令。\\\"\n",
    "\n",
    "\\\"\\\"\\\"{text_1}\\\"\\\"\\\"\n",
    "\"\"\"\n",
    "response = get_completion(prompt)\n",
    "print(response)"
   ]
  },
  {
   "cell_type": "code",
   "execution_count": 9,
   "metadata": {},
   "outputs": [
    {
     "name": "stdout",
     "output_type": "stream",
     "text": [
      "<爷爷>: 忍受是一种修行，它能让我们更加坚强和成熟。生活中难免会遇到挫折和困难，如果我们没有耐心和忍耐力，就很难克服这些困难。而忍受也是一种美德，它能让我们更加宽容和理解他人。所以，不要轻易放弃，要学会忍耐，才能走得更远。\n"
     ]
    }
   ],
   "source": [
    "prompt = f\"\"\"\n",
    "你的任务是以一致性的风格进行问题回答。\n",
    "\n",
    "<孩子>: 耐心有啥用。\n",
    "\n",
    "<爷爷>: 很多美好的东西，都是等来的，不是抢来的，而等待需要耐心失去耐心之时，\\ \n",
    "也是我们与幸福擦肩而过的时候但凡有耐心的人，往往能笑到最后所以，别着急，好事在后头！\\ \n",
    "世界真的很小，好像一转身，就不知道会遇见谁；世界真的很大，好像一转身，就不知道谁会消失。\n",
    "\n",
    "<孩子>: 忍受又有什么用呢。\n",
    "\"\"\"\n",
    "response = get_completion(prompt)\n",
    "print(response)"
   ]
  },
  {
   "attachments": {},
   "cell_type": "markdown",
   "metadata": {},
   "source": [
    "prompt书写原则二\n",
    "    1、给模型清晰的执行步骤\n",
    "    2、在给出答案之前，先给出自己的解决方案"
   ]
  },
  {
   "cell_type": "code",
   "execution_count": 11,
   "metadata": {},
   "outputs": [
    {
     "name": "stdout",
     "output_type": "stream",
     "text": [
      "摘要：熊养小兔子准备年三十吃，小兔子以为熊要娶它。\n",
      "\n",
      "Translation: The bear raised a small rabbit to eat on New Year's Eve, but the rabbit thought the bear was going to marry it.\n",
      "\n",
      "Animal names: bear, rabbit\n",
      "\n",
      "JSON object:\n",
      "```\n",
      "{\n",
      "  \"animal id\": [\"bear\", \"rabbit\"],\n",
      "  \"animal name\": [\"熊\", \"小兔子\"]\n",
      "}\n",
      "```\n"
     ]
    }
   ],
   "source": [
    "text = f\"\"\"\n",
    "熊抓到了一只小兔子。打算把它吃掉可是小兔子太小了。\n",
    "于是熊打算把它养到年三十的时候再吃，也能肥美一点。\n",
    "于是，熊每天都会给他喂好吃的胡萝卜，年三十终于到了。\n",
    "熊在家里挂上了红灯笼。胖了许多的小兔子被熊用红丝绸包裹着。\n",
    "熊拿着刀叉准备吃它。这是小兔子迫不及待的掀开红丝绸的盖头，\n",
    "开心而且期待的说：你终于要娶我了吗？\n",
    "\"\"\"\n",
    "# example 1\n",
    "prompt_1 = f\"\"\"\n",
    "按照下面的步骤进行回应 : \n",
    "1 - 将下面由三个引号包起的文本做一下摘要，要求是一句话。\n",
    "2 - 将摘要翻译成英文。\n",
    "3 - 用英文列出英文摘要中的动物名称。\n",
    "4 - 根据英文摘要输出一个json对象，keys: animal id, animal name\n",
    "\n",
    "输出答案的时候，每一个不同的步骤都要用一个空行隔开。\n",
    "\n",
    "Text:\n",
    "```{text}```\n",
    "\"\"\"\n",
    "response = get_completion(prompt_1)\n",
    "print(response)"
   ]
  },
  {
   "cell_type": "code",
   "execution_count": 12,
   "metadata": {},
   "outputs": [
    {
     "name": "stdout",
     "output_type": "stream",
     "text": [
      "Summary: 熊养小兔子准备年三十吃掉，但小兔子以为熊要娶它。\n",
      "Translation: The bear raised a small rabbit to eat on New Year's Eve, but the rabbit thought the bear was going to marry it.\n",
      "Names: bear, rabbit\n",
      "Output JSON: {\"animal id\": [\"001\", \"002\"], \"animal name\": [\"bear\", \"rabbit\"]}\n"
     ]
    }
   ],
   "source": [
    "prompt_2 = f\"\"\"\n",
    "你的任务是进行下面几项操作: \n",
    "1 - 将下面由三个引号包起的文本做一下摘要，要求是一句话。\n",
    "2 - 将摘要翻译成英文。\n",
    "3 - 用英文列出英文摘要中的动物名称。\n",
    "4 - 用英文输出一个json对象包含以下的keys: animal id, animal name\n",
    "\n",
    "使用下面的格式进行输出:\n",
    "Text: <将进行摘要的文本>\n",
    "Summary: <摘要>\n",
    "Translation: <摘要翻译>\n",
    "Names: <在英文摘要中出现的动物名称>\n",
    "Output JSON: <json对象包含key:animal id, animal name>\n",
    "\n",
    "Text: <{text}>\n",
    "\"\"\"\n",
    "response = get_completion(prompt_2)\n",
    "print(response)"
   ]
  },
  {
   "cell_type": "code",
   "execution_count": 13,
   "metadata": {},
   "outputs": [
    {
     "name": "stdout",
     "output_type": "stream",
     "text": [
      "结论：学生的解决方案是正确的。函数表达式为C(x)=450x+100000，其中C(x)表示装置尺寸为x平方英尺时的总成本。\n"
     ]
    }
   ],
   "source": [
    "prompt = f\"\"\"\n",
    "给出你的结论，学生的解决方案是否正确？\n",
    "\n",
    "问题:\n",
    "建造一个太阳能装置，需要解决财务问题。\n",
    "-土地价格为100美元/平方英尺\n",
    "-需要花250美元/平方英尺买太阳能电池板\n",
    "-维护装置的费用，费用为每年10万美元，每平方英尺再加10美元\n",
    "\n",
    "需要以平方英尺为未知量计算第一年的成本。给出函数表达式。\n",
    "\n",
    "学生的解决方案:\n",
    "设x为装置的尺寸，单位为平方英尺。\n",
    "成本：\n",
    "1.土地成本：100x\n",
    "2.太阳能电池板成本：250x\n",
    "3.维护费用：100000+100x\n",
    "总成本：100x+250x+100000+100x=450x+100000\n",
    "\"\"\"\n",
    "response = get_completion(prompt)\n",
    "print(response)"
   ]
  },
  {
   "cell_type": "code",
   "execution_count": 17,
   "metadata": {},
   "outputs": [
    {
     "name": "stdout",
     "output_type": "stream",
     "text": [
      "我的解决方案:\n",
      "设x为装置的尺寸，单位为平方英尺。\n",
      "成本：\n",
      "1.土地成本：100x\n",
      "2.太阳能电池板成本：250x\n",
      "3.维护费用：100000+10x\n",
      "总成本：100x+250x+100000+10x=360x+100000\n",
      "\n",
      "你的解决方案和学生的解决方案是否一致：\n",
      "是\n",
      "\n",
      "学生结果:\n",
      "正确\n"
     ]
    }
   ],
   "source": [
    "prompt = f\"\"\"\n",
    "你的任务是判断学生的解决方案是否正确。\n",
    "按照以下的方式进行判断:\n",
    "- 首先, 计算出你自己的解决方案。\n",
    "- 将你的解决方案和学生的解决方案进行比较 \\ \n",
    "然后评估学生的解决方案是否正确。 \n",
    "在你计算出你自己的解决方案之前不要决定学生的解决方案是否正确。\n",
    "\n",
    "用下面的格式输出:\n",
    "你的解决方案:\n",
    "```\n",
    "<你的解决方案>\n",
    "```\n",
    "你的解决方案和学生的解决方案是否一致：\n",
    "```\n",
    "<是或否>\n",
    "```\n",
    "学生结果:\n",
    "```\n",
    "<正确或者错误>\n",
    "```\n",
    "\n",
    "问题:\n",
    "建造一个太阳能装置，需要解决财务问题。\n",
    "-土地价格为100美元/平方英尺\n",
    "-需要花250美元/平方英尺买太阳能电池板\n",
    "-维护装置的费用，费用为100000美元/年，每平方英尺再额外加10美元\n",
    "需要以平方英尺为未知量计算第一年的成本，给出函数表达式。\n",
    "\n",
    "学生的解决方案:\n",
    "设x为装置的尺寸，单位为平方英尺。\n",
    "成本：\n",
    "1.土地成本：100x\n",
    "2.太阳能电池板成本：250x\n",
    "3.维护费用：100000+100x\n",
    "总成本：100x+250x+100000+10x=360x+100000\n",
    "\"\"\"\n",
    "response = get_completion(prompt)\n",
    "print(response)"
   ]
  },
  {
   "attachments": {},
   "cell_type": "markdown",
   "metadata": {},
   "source": [
    "幻觉的例子"
   ]
  },
  {
   "cell_type": "code",
   "execution_count": 21,
   "metadata": {},
   "outputs": [
    {
     "name": "stdout",
     "output_type": "stream",
     "text": [
      "中科闻歌的吴可博士是一位人工智能领域的专家，他在机器学习、自然语言处理、知识图谱等方面拥有丰富的经验和深厚的技术功底。他曾在微软亚洲研究院、IBM研究院等知名企业和研究机构工作，担任过多个重要项目的负责人和技术顾问。在中科闻歌，他担任首席科学家和技术总监，负责公司的技术研发和创新。他致力于将人工智能技术应用于实际场景，推动人工智能的发展和应用，为社会和企业创造更大的价值。\n"
     ]
    }
   ],
   "source": [
    "prompt = f\"\"\"\n",
    "请向我介绍一下中科闻歌的吴可博士\n",
    "\"\"\"\n",
    "response = get_completion(prompt)\n",
    "print(response)"
   ]
  },
  {
   "attachments": {},
   "cell_type": "markdown",
   "metadata": {},
   "source": []
  }
 ],
 "metadata": {
  "kernelspec": {
   "display_name": "llm",
   "language": "python",
   "name": "python3"
  },
  "language_info": {
   "codemirror_mode": {
    "name": "ipython",
    "version": 3
   },
   "file_extension": ".py",
   "mimetype": "text/x-python",
   "name": "python",
   "nbconvert_exporter": "python",
   "pygments_lexer": "ipython3",
   "version": "3.9.16"
  },
  "orig_nbformat": 4
 },
 "nbformat": 4,
 "nbformat_minor": 2
}

{
 "cells": [
  {
   "cell_type": "code",
   "execution_count": 1,
   "metadata": {},
   "outputs": [],
   "source": [
    "import openai\n",
    "openai.api_key  = \"你的key\"\n",
    "openai.api_base = \"你的代理地址\""
   ]
  },
  {
   "cell_type": "code",
   "execution_count": 2,
   "metadata": {},
   "outputs": [],
   "source": [
    "def get_completion(prompt, model=\"gpt-3.5-turbo\"): # Andrew mentioned that the prompt/ completion paradigm is preferable for this class\n",
    "    messages = [{\"role\": \"user\", \"content\": prompt}]\n",
    "    response = openai.ChatCompletion.create(\n",
    "        model=model,\n",
    "        messages=messages,\n",
    "        temperature=0, # this is the degree of randomness of the model's output\n",
    "    )\n",
    "    return response.choices[0].message[\"content\"]\n"
   ]
  },
  {
   "attachments": {},
   "cell_type": "markdown",
   "metadata": {},
   "source": [
    "基础的摘要能力。"
   ]
  },
  {
   "cell_type": "code",
   "execution_count": 3,
   "metadata": {},
   "outputs": [],
   "source": [
    "prod_review = \"\"\"\n",
    "《我在北京送快递》是一本关于快递员胡安焉在北京从事快递工作的自传，\n",
    "描述了他从小县城来到北京，从事低收入工作的经历和所面临的各种困难和挑战。\n",
    "这本书通过对快递员的真实生活进行描写，揭示了现代都市生活中的某些不为人所知的一面，\n",
    "也呈现了一些社会问题，如低收入、城乡差距、就业机会等。同时，作者也通过描写自己的人生经历，\n",
    "探讨了追求梦想的意义和人生价值。这本书有一定的文学性和思想性，\n",
    "适合有一定阅读经验和思考能力的读者阅读。\n",
    "\"\"\""
   ]
  },
  {
   "cell_type": "code",
   "execution_count": 4,
   "metadata": {},
   "outputs": [
    {
     "name": "stdout",
     "output_type": "stream",
     "text": [
      "《我在北京送快递》是一本描写快递员胡安焉在北京从事快递工作的自传，通过真实生活揭示了现代都市生活中的某些不为人所知的一面，同时也探讨了追求梦想的意义和人生价值。适合有一定阅读经验和思考能力的读者阅读。\n"
     ]
    }
   ],
   "source": [
    "prompt = f\"\"\"\n",
    "你的任务是为某本书的评论生成一个简短的摘要 。\n",
    "\n",
    "对下面被三个引号包含的评论进行摘要，最少30个字。\n",
    "\n",
    "评论: ```{prod_review}```\n",
    "\"\"\"\n",
    "\n",
    "response = get_completion(prompt)\n",
    "print(response)\n"
   ]
  },
  {
   "attachments": {},
   "cell_type": "markdown",
   "metadata": {},
   "source": [
    "把摘要的问题看成抽取问题，有倾向性的选择摘要的重点。"
   ]
  },
  {
   "cell_type": "code",
   "execution_count": 5,
   "metadata": {},
   "outputs": [
    {
     "name": "stdout",
     "output_type": "stream",
     "text": [
      "《我在北京送快递》揭示现代都市生活中的社会问题，如低收入、城乡差距、就业机会等。适合有思考能力的读者。\n"
     ]
    }
   ],
   "source": [
    "prompt = f\"\"\"\n",
    "你的任务是为某本书的评论生成一个简短的摘要用来给政府部门一些反馈。\n",
    "\n",
    "对下面被三个引号包含的评论进行摘要，应聚焦于社会问题，最多30个字。\n",
    "\n",
    "评论: ```{prod_review}```\n",
    "\"\"\"\n",
    "\n",
    "response = get_completion(prompt)\n",
    "print(response)\n"
   ]
  },
  {
   "attachments": {},
   "cell_type": "markdown",
   "metadata": {},
   "source": [
    "像程序开发一样开发prompt，使用for循环批量处理摘要问题。"
   ]
  },
  {
   "cell_type": "code",
   "execution_count": 10,
   "metadata": {},
   "outputs": [],
   "source": [
    "review_1 = \"\"\"\n",
    "为我女儿的生日买了这个熊猫毛绒玩具\n",
    "她非常喜欢它并无时无刻的带着它到任何地方。\n",
    "它摸起来很柔软，它的脸看起来很友好，长的超级可爱。\n",
    "对于我付的钱来说它有些小了，我想在价格相同的情况下\n",
    "它应该更大一些才对。\n",
    "它比预期提前了一天到达，所以我在给女儿之前就先自己玩了一会。\n",
    "\"\"\"\n",
    "review_2 = \"\"\"\n",
    "我的卧室需要一盏漂亮的灯，而且这盏有额外的储物空间，而且价格不太高。\n",
    "很快就拿到了——2天后就到了。灯的绳子在运输过程中断了，公司很高兴地送来了一个新的。\n",
    "几天之内也来了。这很容易组合起来。然后我有一个缺失的部分，所以我联系了他们的支持，\n",
    "他们很快就给了我缺失的部分！在我看来，这是一家关心客户和产品的伟大公司。\n",
    "\"\"\"\n",
    "review_3 = \"\"\"\n",
    "我的牙科保健师推荐了一把电动牙刷，这就是我买这个的原因。到目前为止，电池寿命似乎相当可观。\n",
    "在初次充电并让充电器插上电源第一周以调节电池后，我拔掉了充电器的插头，在过去的三周里每天用它刷牙两次，\n",
    "都是在同一次充电的情况下。但是牙刷头太小了。我见过比这把大的婴儿牙刷。我希望头部更大，刷毛长度不同，\n",
    "这样可以更好地夹在牙齿之间，因为这一个没有。总的来说，如果你能在50美元左右买到这件，那就太划算了。\n",
    "制造商的替换头相当昂贵，但你可以买到价格更合理的通用头。这把牙刷让我觉得我每天都在看牙医。我的牙齿感觉干净得闪闪发光！\n",
    "\"\"\"\n",
    "review_4 = \"\"\"\n",
    "他们在11月仍有17件套系列的季节性销售，价格约为49元。但由于某种原因（价格欺诈），在12月的第二周左右，同一系列的价格都上涨到了70元至89元之间。11件套的价格也比之前的29元上涨了大约10元。\n",
    "虽然它看起来不错，但如果你看一下底座，刀片锁定的部分看起来不像几年前的前几版那么好，我用它非常温柔（例如，我先在搅拌机里把豆子、冰、米饭等非常硬的东西压碎，然后在搅拌机里按照我想要的份量把它们碾碎，然后换成搅打刀片来搅拌更细的面粉，在做奶昔时先用横切刀片，如果我需要更细/更少浆的东西，就用平刀片）。\n",
    "制作冰沙时的特别注意的是，将水果和蔬菜切细并冷冻（如果使用菠菜轻轻炖煮，使菠菜软化，然后冷冻直到可以使用；如果制作冰沙，则使用中小型食品加工机），\n",
    "这样你就可以避免在制作冰沙的时候添加太多冰。\n",
    "大约一年后，发动机发出了奇怪的声音。我打电话给客服，但保修期已经到期，所以我不得不再买一个。\n",
    "仅供参考：这类产品的整体质量已经很好了，但他们有点指望靠品牌知名度和消费者忠诚度来维持销售额。\n",
    "\"\"\"\n",
    "reviews = [review_1, review_2, review_3, review_4]"
   ]
  },
  {
   "cell_type": "code",
   "execution_count": 8,
   "metadata": {},
   "outputs": [
    {
     "name": "stdout",
     "output_type": "stream",
     "text": [
      "\"它比预期提前了一天到达\"，需要注意运输部门的准确性和及时性。\n"
     ]
    }
   ],
   "source": [
    "prompt = f\"\"\"\n",
    "您的任务是从电子商务网站的产品评论中提取相关信息，并向运输部门提供反馈。\n",
    "\n",
    "从下面用三个引号分隔的评论中，提取与运输和交付相关的信息。限制为30个单词。\n",
    "\n",
    "评论: ```{review_1}```\n",
    "\"\"\"\n",
    "response = get_completion(prompt)\n",
    "print(response)"
   ]
  },
  {
   "cell_type": "code",
   "execution_count": 11,
   "metadata": {},
   "outputs": [
    {
     "name": "stdout",
     "output_type": "stream",
     "text": [
      "0 \"超级可爱的熊猫玩具，柔软友好，女儿喜欢无时无刻带着它。价格有点小贵，但提前到达。\" \n",
      "\n",
      "1 \"漂亮的灯，带储物空间，价格实惠。快速送达，好客服，关心客户和产品。\" \n",
      "\n",
      "2 \"可靠电池寿命，小刷头需要改进，价格实惠\" \n",
      "\n",
      "3 价格欺诈，底座锁定不牢，但适用于搅拌、碾碎和搅打，制作冰沙需注意。发动机声音奇怪，保修期过后需再购买。产品质量好，但依赖品牌知名度和消费者忠诚度。 \n",
      "\n"
     ]
    }
   ],
   "source": [
    "for i in range(len(reviews)):\n",
    "    prompt = f\"\"\"\n",
    "    你的任务是生成一个简短的产品评论摘要。\n",
    "    用最多20个单词对下面的用三个引号分隔的评论进行摘要。\n",
    "\n",
    "    Review: ```{reviews[i]}```\n",
    "    \"\"\"\n",
    "    response = get_completion(prompt)\n",
    "    print(i, response, \"\\n\")"
   ]
  }
 ],
 "metadata": {
  "kernelspec": {
   "display_name": "llm",
   "language": "python",
   "name": "python3"
  },
  "language_info": {
   "codemirror_mode": {
    "name": "ipython",
    "version": 3
   },
   "file_extension": ".py",
   "mimetype": "text/x-python",
   "name": "python",
   "nbconvert_exporter": "python",
   "pygments_lexer": "ipython3",
   "version": "3.9.16"
  },
  "orig_nbformat": 4
 },
 "nbformat": 4,
 "nbformat_minor": 2
}
